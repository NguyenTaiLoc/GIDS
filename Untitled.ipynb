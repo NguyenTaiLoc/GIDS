{
 "cells": [
  {
   "cell_type": "code",
   "execution_count": null,
   "id": "75c6fa24",
   "metadata": {},
   "outputs": [],
   "source": [
    "# import pandas as pd\n",
    "# df = pd.read_csv(\n",
    "#     \"/home/tailoc/Downloads/GIDS_dataset/normal_run_data.csv\", sep=' ')\n",
    "\n",
    "# pd.set_option('display.max_columns',10)\n",
    "# pd.set_option('display.max_rows', 5)\n",
    "\n",
    "# # tmp = df.to_string()\n",
    "# # print(tmp)\n",
    "\n",
    "# # fp = open('/home/tailoc/Downloads/GIDS_dataset/normal_data.txt', 'w')\n",
    "\n",
    "# # print(df)\n",
    "# for i in range(len(df)):\n",
    "#     tmp = df[i].to_string()\n",
    "#     st1 = tmp.split(\" \")\n",
    "#     if (len(st1[19][:-1] == 4)):\n",
    "#         fp.write(st1[19][:-1])\n",
    "#         fp.write(',')\n",
    "# #     print(st1[19][:-1])\n",
    "\n",
    "import pandas as pd\n",
    "df = pd.read_csv(\n",
    "    \"/home/tailoc/Downloads/GIDS_dataset/normal_run_data.csv\", sep=' ')\n",
    "\n",
    "pd.set_option('display.max_columns',10)\n",
    "pd.set_option('display.max_rows', 5)\n",
    "\n",
    "tmp = df.to_string()\n",
    "print(tmp)\n",
    "# for i in range(len(df)):\n",
    "#     print(df[i][1])\n",
    "#     tmp = df[i].to_string()\n",
    "#     st1 = tmp.split(\" \")\n",
    "#     print(st1[19][:-1])"
   ]
  }
 ],
 "metadata": {
  "kernelspec": {
   "display_name": "Python 3 (ipykernel)",
   "language": "python",
   "name": "python3"
  },
  "language_info": {
   "codemirror_mode": {
    "name": "ipython",
    "version": 3
   },
   "file_extension": ".py",
   "mimetype": "text/x-python",
   "name": "python",
   "nbconvert_exporter": "python",
   "pygments_lexer": "ipython3",
   "version": "3.9.7"
  }
 },
 "nbformat": 4,
 "nbformat_minor": 5
}
